{
 "cells": [
  {
   "cell_type": "code",
   "execution_count": null,
   "metadata": {},
   "outputs": [],
   "source": [
    "import pandas as pd\n",
    "import numpy as np\n",
    "import seaborn as sns\n",
    "import matplotlib.pyplot as plt\n",
    "%matplotlib inline"
   ]
  },
  {
   "cell_type": "code",
   "execution_count": null,
   "metadata": {},
   "outputs": [],
   "source": [
    "data=pd.read_csv('diamonds.csv')\n",
    "data.rename(columns={'x':'diamond_length_mm',\n",
    "                     'y':'diamond_width_mm',\n",
    "                     'z':'diamond_depth_mm'},inplace=True)\n",
    "data=data.reindex(columns=['carat', 'cut', 'color', 'clarity', 'depth', 'table', \n",
    "       'diamond_length_mm', 'diamond_width_mm', 'diamond_depth_mm','price'])"
   ]
  },
  {
   "cell_type": "code",
   "execution_count": null,
   "metadata": {},
   "outputs": [],
   "source": [
    "data.head(2)"
   ]
  },
  {
   "cell_type": "code",
   "execution_count": null,
   "metadata": {},
   "outputs": [],
   "source": [
    "data.shape"
   ]
  },
  {
   "cell_type": "code",
   "execution_count": null,
   "metadata": {},
   "outputs": [],
   "source": [
    "data.drop_duplicates(keep=False,inplace=True)\n",
    "dataset=data.copy()"
   ]
  },
  {
   "cell_type": "code",
   "execution_count": null,
   "metadata": {},
   "outputs": [],
   "source": [
    "sns.displot(dataset['price'],kind='kde')"
   ]
  },
  {
   "cell_type": "code",
   "execution_count": null,
   "metadata": {},
   "outputs": [],
   "source": [
    "from scipy import stats\n",
    "z_test=np.abs(stats.zscore(dataset['price']))\n",
    "outlier_mask=z_test>2\n",
    "data_no_out=dataset[~outlier_mask]"
   ]
  },
  {
   "cell_type": "code",
   "execution_count": null,
   "metadata": {},
   "outputs": [],
   "source": [
    "data_no_out.shape"
   ]
  },
  {
   "cell_type": "code",
   "execution_count": null,
   "metadata": {},
   "outputs": [],
   "source": [
    "sns.displot(data_no_out['price'],kind='kde')"
   ]
  },
  {
   "cell_type": "code",
   "execution_count": null,
   "metadata": {},
   "outputs": [],
   "source": [
    "ScalData=data_no_out.copy()"
   ]
  },
  {
   "cell_type": "code",
   "execution_count": null,
   "metadata": {},
   "outputs": [],
   "source": [
    "sns.heatmap(ScalData.corr(),annot=True, cmap=\"YlGnBu\")"
   ]
  },
  {
   "cell_type": "code",
   "execution_count": null,
   "metadata": {},
   "outputs": [],
   "source": [
    "def spearman_correlation(data1, data2, title):\n",
    "    print(\"-\" * 15, title, \"-\" * 15)\n",
    "    print()\n",
    "    # calculate Spearman's Correlation\n",
    "    coef, p = stats.spearmanr(data1, data2)\n",
    "    print(f\"Spearmans correlation coefficient: {coef:.3f}\")\n",
    "    print()\n",
    "    # interpret the significance\n",
    "    alpha = 0.05\n",
    "    if (p > alpha):\n",
    "        print(f\"Samples are uncorrelated (fail to reject H0) p={p:.3f}\")\n",
    "    else:\n",
    "        print(f\"Samples are correlated (reject H0) p={p:.3f}\")\n",
    "    print()\n",
    "    \n",
    "def pearson_correlation(data1, data2, title):\n",
    "    print(\"-\" * 15, title, \"-\" * 15)\n",
    "    print()\n",
    "    # calculate Pearson's Correlation\n",
    "    coef, p = stats.pearsonr(data1, data2)\n",
    "    print(f\"Pearson correlation coefficient: {coef:.3f}\")\n",
    "    print()\n",
    "    # interpret the significance\n",
    "    alpha = 0.05\n",
    "    if (p > alpha):\n",
    "        print(f\"Samples are uncorrelated (fail to reject H0) p={p:.3f}\")\n",
    "    else:\n",
    "        print(f\"Samples are correlated (reject H0) p={p:.3f}\")\n",
    "    print()"
   ]
  },
  {
   "cell_type": "code",
   "execution_count": null,
   "metadata": {},
   "outputs": [],
   "source": [
    "#numeric values analysis\n",
    "pearson_correlation(ScalData[\"carat\"], ScalData[\"price\"], \"pearson Correlation : carat\")\n",
    "pearson_correlation(ScalData[\"depth\"], ScalData[\"price\"], \"pearson Correlation : depth\")\n",
    "pearson_correlation(ScalData[\"diamond_length_mm\"], ScalData[\"price\"], \"pearson Correlation : diamond_length_mm\")\n",
    "pearson_correlation(ScalData[\"diamond_width_mm\"], ScalData[\"price\"], \"pearson Correlation : diamond_width_mm\")\n",
    "pearson_correlation(ScalData[\"diamond_depth_mm\"], ScalData[\"price\"], \"pearson Correlation : diamond_depth_mm\")"
   ]
  },
  {
   "cell_type": "code",
   "execution_count": null,
   "metadata": {},
   "outputs": [],
   "source": [
    "#categorical variable\n",
    "spearman_correlation(data1=ScalData[\"cut\"], data2=ScalData[\"price\"], title=\"Spearman correlation : cut\")\n",
    "spearman_correlation(data1=ScalData[\"color\"], data2=ScalData[\"price\"], title=\"Spearman correlation : color\")\n",
    "spearman_correlation(data1=ScalData[\"clarity\"], data2=ScalData[\"price\"], title=\"Spearman correlation : clarity\")"
   ]
  },
  {
   "cell_type": "code",
   "execution_count": null,
   "metadata": {},
   "outputs": [],
   "source": [
    "new_data=ScalData.drop(['depth'],axis=1,inplace=False)"
   ]
  },
  {
   "cell_type": "code",
   "execution_count": null,
   "metadata": {},
   "outputs": [],
   "source": [
    "from sklearn.preprocessing import LabelEncoder\n",
    "LabelEnc=LabelEncoder()\n",
    "new_data['cut']=LabelEnc.fit_transform(new_data['cut'])\n",
    "new_data['color']=LabelEnc.fit_transform(new_data['color'])\n",
    "new_data['clarity']=LabelEnc.fit_transform(new_data['clarity'])"
   ]
  },
  {
   "cell_type": "code",
   "execution_count": null,
   "metadata": {},
   "outputs": [],
   "source": [
    "new_data.head(1)"
   ]
  },
  {
   "cell_type": "code",
   "execution_count": null,
   "metadata": {},
   "outputs": [],
   "source": [
    "X=new_data.iloc[:,:-1]\n",
    "y=new_data.iloc[:,-1]"
   ]
  },
  {
   "cell_type": "code",
   "execution_count": null,
   "metadata": {},
   "outputs": [],
   "source": [
    "#from sklearn.preprocessing import StandardScaler\n",
    "from sklearn.model_selection import train_test_split\n",
    "#scaler=StandardScaler()"
   ]
  },
  {
   "cell_type": "code",
   "execution_count": null,
   "metadata": {},
   "outputs": [],
   "source": [
    "X_train, X_test, y_train, y_test = train_test_split(X, y, test_size=0.33, random_state=42)"
   ]
  },
  {
   "cell_type": "code",
   "execution_count": null,
   "metadata": {},
   "outputs": [],
   "source": [
    "#X_train=scaler.fit_transform(X_train)\n",
    "#X_test=scaler.transform(X_test)"
   ]
  },
  {
   "cell_type": "code",
   "execution_count": null,
   "metadata": {},
   "outputs": [],
   "source": [
    "from sklearn.linear_model import LinearRegression\n",
    "from sklearn.ensemble import RandomForestRegressor\n",
    "reg=RandomForestRegressor()"
   ]
  },
  {
   "cell_type": "code",
   "execution_count": null,
   "metadata": {},
   "outputs": [],
   "source": [
    "reg.fit(X_train,y_train)"
   ]
  },
  {
   "cell_type": "code",
   "execution_count": null,
   "metadata": {},
   "outputs": [],
   "source": [
    "print(reg.coef_)\n",
    "print(reg.intercept_)"
   ]
  },
  {
   "cell_type": "code",
   "execution_count": null,
   "metadata": {},
   "outputs": [],
   "source": [
    "reg.get_params()"
   ]
  },
  {
   "cell_type": "code",
   "execution_count": null,
   "metadata": {},
   "outputs": [],
   "source": [
    "reg_pred=reg.predict(X_test)\n",
    "plt.scatter(y_test,reg_pred)"
   ]
  },
  {
   "cell_type": "code",
   "execution_count": null,
   "metadata": {},
   "outputs": [],
   "source": [
    "sns.displot(y_test-reg_pred,kind='kde')"
   ]
  },
  {
   "cell_type": "code",
   "execution_count": null,
   "metadata": {},
   "outputs": [],
   "source": [
    "residual=y_test-reg_pred\n",
    "plt.scatter(reg_pred,residual)"
   ]
  },
  {
   "cell_type": "code",
   "execution_count": null,
   "metadata": {},
   "outputs": [],
   "source": [
    "from sklearn.metrics import mean_squared_error,mean_absolute_error\n",
    "print('MAE: ',mean_absolute_error(y_test,reg_pred))\n",
    "print('MSE: ',mean_squared_error(y_test,reg_pred))\n",
    "print('RMSE: ',np.sqrt(mean_squared_error(y_test,reg_pred)))"
   ]
  },
  {
   "cell_type": "code",
   "execution_count": null,
   "metadata": {},
   "outputs": [],
   "source": [
    "from sklearn.metrics import r2_score\n",
    "score=r2_score(y_test,reg_pred)\n",
    "print(score)"
   ]
  },
  {
   "cell_type": "code",
   "execution_count": null,
   "metadata": {},
   "outputs": [],
   "source": [
    "adjusted_r2=1-(1-score)*(len(y_test)-1)/(len(y_test)-X_test.shape[1]-1)\n",
    "adjusted_r2"
   ]
  },
  {
   "cell_type": "code",
   "execution_count": null,
   "metadata": {},
   "outputs": [],
   "source": [
    "new_data.head(1)"
   ]
  },
  {
   "cell_type": "code",
   "execution_count": null,
   "metadata": {},
   "outputs": [],
   "source": [
    "input_data = pd.DataFrame({\n",
    "    'carat': [0.23, 0.21],\n",
    "    'cut': ['2', '1'],\n",
    "    'color': ['1', '1'],\n",
    "    'clarity': ['3', '1'],\n",
    "    'table': [55.0, 61.0],\n",
    "    'diamond_length_mm': [3.95, 3.89],\n",
    "    'diamond_width_mm': [3.98, 3.84],\n",
    "    'diamond_depth_mm': [2.43, 2.31]\n",
    "})\n",
    "\n",
    "\n",
    "#input_data['cut']=LabelEnc.transform(input_data['cut'])\n",
    "#input_data['color']=LabelEnc.transform(input_data['color'])\n",
    "#input_data['clarity']=LabelEnc.transform(input_data['clarity'])\n",
    "\n",
    "#input_data=scaler.transform(input_data)\n",
    "#input_data=input_data.reshape(1,-1).shape\n",
    "\n"
   ]
  },
  {
   "cell_type": "code",
   "execution_count": null,
   "metadata": {},
   "outputs": [],
   "source": [
    "reg.predict(input_data)"
   ]
  },
  {
   "cell_type": "code",
   "execution_count": null,
   "metadata": {},
   "outputs": [],
   "source": [
    "y_train.min()"
   ]
  },
  {
   "cell_type": "code",
   "execution_count": null,
   "metadata": {},
   "outputs": [],
   "source": [
    "data.columns"
   ]
  },
  {
   "cell_type": "code",
   "execution_count": null,
   "metadata": {},
   "outputs": [],
   "source": [
    "data['cut'].value_counts()"
   ]
  },
  {
   "cell_type": "code",
   "execution_count": null,
   "metadata": {},
   "outputs": [],
   "source": []
  },
  {
   "cell_type": "code",
   "execution_count": null,
   "metadata": {},
   "outputs": [],
   "source": []
  }
 ],
 "metadata": {
  "kernelspec": {
   "display_name": "base",
   "language": "python",
   "name": "python3"
  },
  "language_info": {
   "codemirror_mode": {
    "name": "ipython",
    "version": 3
   },
   "file_extension": ".py",
   "mimetype": "text/x-python",
   "name": "python",
   "nbconvert_exporter": "python",
   "pygments_lexer": "ipython3",
   "version": "3.10.9"
  },
  "orig_nbformat": 4
 },
 "nbformat": 4,
 "nbformat_minor": 2
}
